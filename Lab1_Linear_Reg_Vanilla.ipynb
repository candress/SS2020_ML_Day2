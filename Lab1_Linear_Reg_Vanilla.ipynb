{
  "nbformat": 4,
  "nbformat_minor": 0,
  "metadata": {
    "colab": {
      "name": "Lab1 Linear Reg Vanilla",
      "provenance": []
    },
    "kernelspec": {
      "name": "python3",
      "display_name": "Python 3"
    }
  },
  "cells": [
    {
      "cell_type": "markdown",
      "metadata": {
        "id": "Lv0gFIvtkrQf",
        "colab_type": "text"
      },
      "source": [
        "## **Data Preparation**"
      ]
    },
    {
      "cell_type": "code",
      "metadata": {
        "id": "Fa8Aj4QYkXAB",
        "colab_type": "code",
        "colab": {}
      },
      "source": [
        "X = list(range(10))\n",
        "Y = [1, 1, 2, 4, 5, 7, 8, 9, 10, 9]"
      ],
      "execution_count": 0,
      "outputs": []
    },
    {
      "cell_type": "code",
      "metadata": {
        "id": "_X5GnbebkpQA",
        "colab_type": "code",
        "outputId": "51ad959f-5133-4322-cee5-d29b533f2abc",
        "colab": {
          "base_uri": "https://localhost:8080/",
          "height": 265
        }
      },
      "source": [
        "import matplotlib.pyplot as plt\n",
        "plt.scatter(X,Y)\n",
        "plt.show()"
      ],
      "execution_count": 2,
      "outputs": [
        {
          "output_type": "display_data",
          "data": {
            "image/png": "[encoded data removed]",
            "text/plain": [
              "<Figure size 432x288 with 1 Axes>"
            ]
          },
          "metadata": {
            "tags": [],
            "needs_background": "light"
          }
        }
      ]
    },
    {
      "cell_type": "markdown",
      "metadata": {
        "id": "8AN6_PuJlUgH",
        "colab_type": "text"
      },
      "source": [
        "## **Model(Hypothesis) Define**"
      ]
    },
    {
      "cell_type": "code",
      "metadata": {
        "id": "q_laJL16lGZf",
        "colab_type": "code",
        "colab": {}
      },
      "source": [
        "class H():\n",
        "  \n",
        "    def __init__(self, w): \n",
        "        self.w = w\n",
        "    \n",
        "    def forward(self, x):\n",
        "        return self.w * x     # H(x) = Wx\n",
        "    "
      ],
      "execution_count": 0,
      "outputs": []
    },
    {
      "cell_type": "markdown",
      "metadata": {
        "id": "GECEorqIlngG",
        "colab_type": "text"
      },
      "source": [
        "## **Cost(Loss) Function**"
      ]
    },
    {
      "cell_type": "code",
      "metadata": {
        "id": "7WS3R7qHlQpb",
        "colab_type": "code",
        "colab": {}
      },
      "source": [
        "def cost(h, X, Y):\n",
        "    error = 0\n",
        "    for i in range(len(X)):\n",
        "        error += (h.forward(X[i]) - Y[i])**2\n",
        "    error = error / len(X)\n",
        "    return error\n"
      ],
      "execution_count": 0,
      "outputs": []
    },
    {
      "cell_type": "markdown",
      "metadata": {
        "id": "c2VhPioCl7LO",
        "colab_type": "text"
      },
      "source": [
        "##**Checking cost function**##"
      ]
    },
    {
      "cell_type": "code",
      "metadata": {
        "id": "UYsNwsv9l08c",
        "colab_type": "code",
        "outputId": "29be9a6d-e718-4389-a015-c9b7318ccd0e",
        "colab": {
          "base_uri": "https://localhost:8080/",
          "height": 406
        }
      },
      "source": [
        "list_w = []\n",
        "list_c = []\n",
        "for i in range(-20, 20):\n",
        "    w = i * 0.5\n",
        "    h = H(w)\n",
        "    c = cost(h, X, Y)\n",
        "    list_w.append(w)\n",
        "    list_c.append(c)\n",
        "    \n",
        "print(list_w)\n",
        "print(list_c) \n",
        "\n",
        "plt.figure(figsize=(10,5))\n",
        "plt.xlabel('w')\n",
        "plt.ylabel('cost')\n",
        "plt.scatter(list_w, list_c, s=3)"
      ],
      "execution_count": 6,
      "outputs": [
        {
          "output_type": "stream",
          "text": [
            "[-10.0, -9.5, -9.0, -8.5, -8.0, -7.5, -7.0, -6.5, -6.0, -5.5, -5.0, -4.5, -4.0, -3.5, -3.0, -2.5, -2.0, -1.5, -1.0, -0.5, 0.0, 0.5, 1.0, 1.5, 2.0, 2.5, 3.0, 3.5, 4.0, 4.5, 5.0, 5.5, 6.0, 6.5, 7.0, 7.5, 8.0, 8.5, 9.0, 9.5]\n",
            "[3580.2, 3267.925, 2969.9, 2686.125, 2416.6, 2161.325, 1920.3, 1693.525, 1481.0, 1282.725, 1098.7, 928.925, 773.4, 632.125, 505.1, 392.325, 293.8, 209.525, 139.5, 83.725, 42.2, 14.925, 1.9, 3.125, 18.6, 48.325, 92.3, 150.525, 223.0, 309.725, 410.7, 525.925, 655.4, 799.125, 957.1, 1129.325, 1315.8, 1516.525, 1731.5, 1960.725]\n"
          ],
          "name": "stdout"
        },
        {
          "output_type": "execute_result",
          "data": {
            "text/plain": [
              "<matplotlib.collections.PathCollection at 0x7ff13e103da0>"
            ]
          },
          "metadata": {
            "tags": []
          },
          "execution_count": 6
        },
        {
          "output_type": "display_data",
          "data": {
            "image/png": "[encoded data removed]",
            "text/plain": [
              "<Figure size 720x360 with 1 Axes>"
            ]
          },
          "metadata": {
            "tags": [],
            "needs_background": "light"
          }
        }
      ]
    },
    {
      "cell_type": "markdown",
      "metadata": {
        "id": "WWaSGta5mEyS",
        "colab_type": "text"
      },
      "source": [
        "##**Gradient Decent**"
      ]
    },
    {
      "cell_type": "code",
      "metadata": {
        "id": "X9huD9dmmC7D",
        "colab_type": "code",
        "colab": {}
      },
      "source": [
        "def cal_grad(w, cost): \n",
        "    h = H(w)\n",
        "    cost1 = cost(h, X, Y)\n",
        "    eps = 0.00001 \n",
        "    h = H(w+eps) \n",
        "    cost2 = cost(h, X, Y)\n",
        "    dcost = cost2 - cost1\n",
        "    dw = eps\n",
        "    grad = dcost / dw\n",
        "    return grad, (cost1+cost2)*0.5\n",
        "\n",
        "def cal_grad2(w, cost): \n",
        "    h = H(w)\n",
        "    grad = 0\n",
        "    for i in range(len(X)):\n",
        "        grad += 2 * (h.forward(X[i]) - Y[i]) * X[i]\n",
        "    grad = grad / len(X)\n",
        "    c = cost(h, X, Y)\n",
        "    return grad, c\n"
      ],
      "execution_count": 0,
      "outputs": []
    },
    {
      "cell_type": "markdown",
      "metadata": {
        "id": "QxVi8kQOUmPF",
        "colab_type": "text"
      },
      "source": [
        "##**Running case: Testing two different gradient decent models**"
      ]
    },
    {
      "cell_type": "code",
      "metadata": {
        "id": "jKGoYljTUkuM",
        "colab_type": "code",
        "colab": {
          "base_uri": "https://localhost:8080/",
          "height": 300
        },
        "outputId": "ecd52e93-eb75-4b0c-ef43-7fc2ae044ad8"
      },
      "source": [
        "# ===== Initializing weights (w) ==== #\n",
        "w1 = 1.4\n",
        "w2 = 1.4\n",
        "\n",
        "# ===== Learning rate ===== #\n",
        "\n",
        "lr = 0.01\n",
        "\n",
        "list_w1 = []\n",
        "list_c1 = []\n",
        "list_w2 = []\n",
        "list_c2 = []\n",
        "\n",
        "for i in range(100): \n",
        "    grad, mean_cost = cal_grad(w1, cost)\n",
        "    grad2, mean_cost2 = cal_grad2(w2, cost)\n",
        "\n",
        "    w1 -= lr * grad\n",
        "    w2 -= lr * grad2\n",
        "    list_w1.append(w1)\n",
        "    list_w2.append(w2)\n",
        "    list_c1.append(mean_cost)\n",
        "    list_c2.append(mean_cost2)\n",
        "    \n",
        "print(w1, mean_cost, w2, mean_cost2) \n",
        "\n",
        "plt.scatter(list_w1, list_c1, label='analytic', marker='*')\n",
        "plt.plot(list_w2, list_c2, label='formula')\n",
        "plt.legend()"
      ],
      "execution_count": 8,
      "outputs": [
        {
          "output_type": "stream",
          "text": [
            "1.207012543859841 0.6785964919405698 1.207017543859649 0.6785964912280703\n"
          ],
          "name": "stdout"
        },
        {
          "output_type": "execute_result",
          "data": {
            "text/plain": [
              "<matplotlib.legend.Legend at 0x7ff13e094320>"
            ]
          },
          "metadata": {
            "tags": []
          },
          "execution_count": 8
        },
        {
          "output_type": "display_data",
          "data": {
            "image/png": "[encoded data removed]",
            "text/plain": [
              "<Figure size 432x288 with 1 Axes>"
            ]
          },
          "metadata": {
            "tags": [],
            "needs_background": "light"
          }
        }
      ]
    },
    {
      "cell_type": "markdown",
      "metadata": {
        "id": "MwCExlQguuGG",
        "colab_type": "text"
      },
      "source": [
        "##**Checking results: Best fit**"
      ]
    },
    {
      "cell_type": "code",
      "metadata": {
        "id": "CZSj98nPmkra",
        "colab_type": "code",
        "outputId": "73e5938f-001b-4292-f489-6bb3bf00d1d5",
        "colab": {
          "base_uri": "https://localhost:8080/",
          "height": 265
        }
      },
      "source": [
        "import numpy as np\n",
        "x_grid=np.arange(10)\n",
        "pred_y1 = w1*x_grid\n",
        "plt.plot(X,pred_y1)\n",
        "plt.scatter(X,Y)\n",
        "plt.show()"
      ],
      "execution_count": 11,
      "outputs": [
        {
          "output_type": "display_data",
          "data": {
            "image/png": "[encoded data removed]",
            "text/plain": [
              "<Figure size 432x288 with 1 Axes>"
            ]
          },
          "metadata": {
            "tags": [],
            "needs_background": "light"
          }
        }
      ]
    },
    {
      "cell_type": "code",
      "metadata": {
        "id": "zi-syBgato67",
        "colab_type": "code",
        "colab": {}
      },
      "source": [
        ""
      ],
      "execution_count": 0,
      "outputs": []
    }
  ]
}