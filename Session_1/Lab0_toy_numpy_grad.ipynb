{
  "nbformat": 4,
  "nbformat_minor": 0,
  "metadata": {
    "colab": {
      "name": "Lab0 toy numpy grad.ipynb",
      "provenance": [],
      "authorship_tag": "ABX9TyOLxJJVDza/7HZ5AtAaaSZf",
      "include_colab_link": true
    },
    "kernelspec": {
      "name": "python3",
      "display_name": "Python 3"
    }
  },
  "cells": [
    {
      "cell_type": "markdown",
      "metadata": {
        "id": "view-in-github",
        "colab_type": "text"
      },
      "source": [
        "<a href=\"https://colab.research.google.com/github/isaacye/SS2020_ML_Day2/blob/master/Session_1/Lab0_toy_numpy_grad.ipynb\" target=\"_parent\"><img src=\"https://colab.research.google.com/assets/colab-badge.svg\" alt=\"Open In Colab\"/></a>"
      ]
    },
    {
      "cell_type": "code",
      "metadata": {
        "id": "VgCJcFY-qpBw",
        "colab_type": "code",
        "colab": {}
      },
      "source": [
        "import numpy as np\n",
        "np.random.seed(0)\n",
        "\n",
        "N, D = 3, 4\n",
        "\n",
        "x = np.ones((N,D))\n",
        "y = 2*np.ones((N,D))\n",
        "z = 3*np.ones((N,D))"
      ],
      "execution_count": 0,
      "outputs": []
    },
    {
      "cell_type": "code",
      "metadata": {
        "id": "SQ707-2Sq8u9",
        "colab_type": "code",
        "colab": {}
      },
      "source": [
        "print(x)\n",
        "print(y)\n",
        "print(z)"
      ],
      "execution_count": 0,
      "outputs": []
    },
    {
      "cell_type": "code",
      "metadata": {
        "id": "mpfvCV0Rq--q",
        "colab_type": "code",
        "colab": {}
      },
      "source": [
        "a = x * y\n",
        "b = a + z\n",
        "c = np.sum(b)\n",
        "print(c)"
      ],
      "execution_count": 0,
      "outputs": []
    },
    {
      "cell_type": "code",
      "metadata": {
        "id": "duWhDEYqrD5y",
        "colab_type": "code",
        "colab": {}
      },
      "source": [
        "grad_c = 1.0\n",
        "grad_b = grad_c * np.ones((N,D))\n",
        "grad_a = grad_b.copy()\n",
        "grad_z = grad_b.copy()\n",
        "\n",
        "grad_x = grad_a*y\n",
        "grad_y = grad_a*x"
      ],
      "execution_count": 0,
      "outputs": []
    },
    {
      "cell_type": "code",
      "metadata": {
        "id": "cyTFD2vHrQLK",
        "colab_type": "code",
        "colab": {}
      },
      "source": [
        "print(grad_x)"
      ],
      "execution_count": 0,
      "outputs": []
    }
  ]
}