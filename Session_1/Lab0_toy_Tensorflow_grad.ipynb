{
  "nbformat": 4,
  "nbformat_minor": 0,
  "metadata": {
    "colab": {
      "name": "Lab0 toy Tensorflow grad.ipynb",
      "provenance": [],
      "authorship_tag": "ABX9TyPA0hYRU6XZ/P0VgtBtFD+u",
      "include_colab_link": true
    },
    "kernelspec": {
      "name": "python3",
      "display_name": "Python 3"
    }
  },
  "cells": [
    {
      "cell_type": "markdown",
      "metadata": {
        "id": "view-in-github",
        "colab_type": "text"
      },
      "source": [
        "<a href=\"https://colab.research.google.com/github/isaacye/SS2020_ML_Day2/blob/master/Session_1/Lab0_toy_Tensorflow_grad.ipynb\" target=\"_parent\"><img src=\"https://colab.research.google.com/assets/colab-badge.svg\" alt=\"Open In Colab\"/></a>"
      ]
    },
    {
      "cell_type": "code",
      "metadata": {
        "id": "c487hfvhGqHR",
        "colab_type": "code",
        "outputId": "a9a89601-b43d-4b29-83a6-aa8e0247e41d",
        "colab": {
          "base_uri": "https://localhost:8080/",
          "height": 34
        }
      },
      "source": [
        "import numpy as np\n",
        "import tensorflow as tf\n",
        "print(tf.__version__)"
      ],
      "execution_count": 0,
      "outputs": [
        {
          "output_type": "stream",
          "text": [
            "2.2.0\n"
          ],
          "name": "stdout"
        }
      ]
    },
    {
      "cell_type": "code",
      "metadata": {
        "id": "dtBCmu4TG35S",
        "colab_type": "code",
        "colab": {}
      },
      "source": [
        "N, D = 3, 4\n",
        "\n",
        "x = tf.ones([N,D])\n",
        "y = 2*tf.ones([N, D])\n",
        "z = 3*tf.ones([N, D])"
      ],
      "execution_count": 0,
      "outputs": []
    },
    {
      "cell_type": "code",
      "metadata": {
        "id": "e4CF9qkoHXbX",
        "colab_type": "code",
        "outputId": "1808763a-bfa4-4ec1-fe8d-51628d89397a",
        "colab": {
          "base_uri": "https://localhost:8080/",
          "height": 228
        }
      },
      "source": [
        "print(x)\n",
        "print(y)\n",
        "print(z)"
      ],
      "execution_count": 0,
      "outputs": [
        {
          "output_type": "stream",
          "text": [
            "tf.Tensor(\n",
            "[[1. 1. 1. 1.]\n",
            " [1. 1. 1. 1.]\n",
            " [1. 1. 1. 1.]], shape=(3, 4), dtype=float32)\n",
            "tf.Tensor(\n",
            "[[2. 2. 2. 2.]\n",
            " [2. 2. 2. 2.]\n",
            " [2. 2. 2. 2.]], shape=(3, 4), dtype=float32)\n",
            "tf.Tensor(\n",
            "[[3. 3. 3. 3.]\n",
            " [3. 3. 3. 3.]\n",
            " [3. 3. 3. 3.]], shape=(3, 4), dtype=float32)\n"
          ],
          "name": "stdout"
        }
      ]
    },
    {
      "cell_type": "code",
      "metadata": {
        "id": "5Cpja_vnIF23",
        "colab_type": "code",
        "outputId": "843de1a3-1c23-493a-f756-9501f46790f1",
        "colab": {
          "base_uri": "https://localhost:8080/",
          "height": 105
        }
      },
      "source": [
        "with tf.GradientTape(persistent=True) as g:\n",
        "  g.watch(x)\n",
        "  a = x * y\n",
        "  b = a + z\n",
        "  c = tf.reduce_sum(b)\n",
        "grad_x = g.gradient(b,x)\n",
        "print(c)\n",
        "print(grad_x)"
      ],
      "execution_count": 0,
      "outputs": [
        {
          "output_type": "stream",
          "text": [
            "tf.Tensor(60.0, shape=(), dtype=float32)\n",
            "tf.Tensor(\n",
            "[[2. 2. 2. 2.]\n",
            " [2. 2. 2. 2.]\n",
            " [2. 2. 2. 2.]], shape=(3, 4), dtype=float32)\n"
          ],
          "name": "stdout"
        }
      ]
    }
  ]
}